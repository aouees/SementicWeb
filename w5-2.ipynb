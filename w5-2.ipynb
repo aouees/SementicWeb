{
 "cells": [
  {
   "cell_type": "code",
   "execution_count": 14,
   "metadata": {},
   "outputs": [],
   "source": [
    "from rdflib import Namespace,Literal,Graph,URIRef,BNode\n",
    "from rdflib.namespace import XSD,DCAT,DCTERMS,FOAF,RDF"
   ]
  },
  {
   "cell_type": "code",
   "execution_count": 15,
   "metadata": {},
   "outputs": [],
   "source": [
    "x=URIRef(\"Http://.../isbn/dasad/asd\")\n",
    "b0=BNode()\n",
    "b1=BNode()\n",
    "y=URIRef(\"http://www.amitavhash.com\")"
   ]
  },
  {
   "cell_type": "code",
   "execution_count": 16,
   "metadata": {},
   "outputs": [],
   "source": [
    "A=Namespace('http://example.org/')"
   ]
  },
  {
   "cell_type": "code",
   "execution_count": 17,
   "metadata": {},
   "outputs": [],
   "source": [
    "g =Graph()"
   ]
  },
  {
   "cell_type": "code",
   "execution_count": 18,
   "metadata": {},
   "outputs": [],
   "source": [
    "g.bind('a',A)"
   ]
  },
  {
   "cell_type": "code",
   "execution_count": 19,
   "metadata": {},
   "outputs": [
    {
     "data": {
      "text/plain": [
       "<Graph identifier=N4411e6f611904a148ecb3599980b6245 (<class 'rdflib.graph.Graph'>)>"
      ]
     },
     "execution_count": 19,
     "metadata": {},
     "output_type": "execute_result"
    }
   ],
   "source": [
    "g.add((x,A['title'],Literal('The Glass Palace')))\n",
    "g.add((x,A['year'],Literal('2000',datatype=XSD['integer'])))\n",
    "g.add((x,A['publisher'],b0))\n",
    "g.add((b0,A['city'],Literal('london')))\n",
    "g.add((b0,A['p_name'],Literal('harpers')))\n",
    "g.add((x,A['author'],b1))\n",
    "g.add((b1,A['homepage'],y))\n",
    "g.add((b1,A['name'],Literal('AmitavGhosh')))"
   ]
  },
  {
   "cell_type": "code",
   "execution_count": 20,
   "metadata": {},
   "outputs": [
    {
     "name": "stdout",
     "output_type": "stream",
     "text": [
      "@prefix a: <http://example.org/> .\n",
      "@prefix xsd: <http://www.w3.org/2001/XMLSchema#> .\n",
      "\n",
      "<Http://.../isbn/dasad/asd> a:author [ a:homepage <http://www.amitavhash.com> ;\n",
      "            a:name \"AmitavGhosh\" ] ;\n",
      "    a:publisher [ a:city \"london\" ;\n",
      "            a:p_name \"harpers\" ] ;\n",
      "    a:title \"The Glass Palace\" ;\n",
      "    a:year 2000 .\n",
      "\n",
      "\n"
     ]
    }
   ],
   "source": [
    "print(g.serialize(format='ttl'))"
   ]
  },
  {
   "cell_type": "code",
   "execution_count": 21,
   "metadata": {},
   "outputs": [
    {
     "name": "stdout",
     "output_type": "stream",
     "text": [
      "<?xml version=\"1.0\" encoding=\"utf-8\"?>\n",
      "<rdf:RDF\n",
      "   xmlns:a=\"http://example.org/\"\n",
      "   xmlns:rdf=\"http://www.w3.org/1999/02/22-rdf-syntax-ns#\"\n",
      ">\n",
      "  <rdf:Description rdf:nodeID=\"Nfdd866ae497445f8a84ed924ba608539\">\n",
      "    <a:city>london</a:city>\n",
      "    <a:p_name>harpers</a:p_name>\n",
      "  </rdf:Description>\n",
      "  <rdf:Description rdf:about=\"Http://.../isbn/dasad/asd\">\n",
      "    <a:title>The Glass Palace</a:title>\n",
      "    <a:year rdf:datatype=\"http://www.w3.org/2001/XMLSchema#integer\">2000</a:year>\n",
      "    <a:publisher rdf:nodeID=\"Nfdd866ae497445f8a84ed924ba608539\"/>\n",
      "    <a:author rdf:nodeID=\"Nf02520c5a9394c27983c017f327caa60\"/>\n",
      "  </rdf:Description>\n",
      "  <rdf:Description rdf:nodeID=\"Nf02520c5a9394c27983c017f327caa60\">\n",
      "    <a:homepage rdf:resource=\"http://www.amitavhash.com\"/>\n",
      "    <a:name>AmitavGhosh</a:name>\n",
      "  </rdf:Description>\n",
      "</rdf:RDF>\n",
      "\n"
     ]
    }
   ],
   "source": [
    "print(g.serialize(format='xml'))"
   ]
  },
  {
   "cell_type": "code",
   "execution_count": null,
   "metadata": {},
   "outputs": [],
   "source": []
  }
 ],
 "metadata": {
  "kernelspec": {
   "display_name": "Python 3",
   "language": "python",
   "name": "python3"
  },
  "language_info": {
   "codemirror_mode": {
    "name": "ipython",
    "version": 3
   },
   "file_extension": ".py",
   "mimetype": "text/x-python",
   "name": "python",
   "nbconvert_exporter": "python",
   "pygments_lexer": "ipython3",
   "version": "3.11.2"
  },
  "orig_nbformat": 4
 },
 "nbformat": 4,
 "nbformat_minor": 2
}
