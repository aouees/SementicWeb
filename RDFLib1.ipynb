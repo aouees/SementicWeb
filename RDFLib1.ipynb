{
 "cells": [
  {
   "cell_type": "markdown",
   "metadata": {
    "id": "UDeikpHwyZzP"
   },
   "source": [
    "# **Creating RDF triples**\n",
    "\n",
    "RDF allows us to make statements about resources. A statement always has the following structure:\\\n",
    "`<subject> <predicate> <object>`.\n",
    "\n",
    "An RDF statement expresses a relationship between two resources. The subject and the object represent the two resources being related; the predicate represents the nature of their relationship. The relationship is phrased in a directional way (from subject to object) and is called in RDF a property. Because RDF statements consist of three elements they are called triples."
   ]
  },
  {
   "cell_type": "code",
   "execution_count": null,
   "metadata": {
    "id": "4AMD49H9lYw2"
   },
   "outputs": [],
   "source": [
    "!pip install rdflib"
   ]
  },
  {
   "cell_type": "markdown",
   "metadata": {
    "id": "403cvmM5AeaT"
   },
   "source": [
    "## Creating Nodes\n",
    "\n",
    "The subjects and objects of the triples make up the nodes in the graph where the nodes are URI references, Blank Nodes or Literals. In RDFLib, these node types are represented by the classes **URIRef**, **BNode**, **Literal**. *URIRefs* and *Bnodes* can both be thought of as resources, such a person, a company, a website, etc.\n",
    "- A *BNode* is a node where the exact URI is not known.\n",
    "- A *URIRef* is a node where the exact URI is know. *URIRefs* are also used to represent the properties/predicates in the RDF graph.\n",
    "- *Literals* represent attribute values, such as a name, a date, a number, etc. The most common literal values are XML data types, e.g. string, int.."
   ]
  },
  {
   "cell_type": "markdown",
   "metadata": {
    "id": "1I3neplrD8hy"
   },
   "source": [
    "## Example RDF Graph\n",
    "\n",
    "![RDF Graph](https://www.w3.org/TR/rdf11-primer/example-graph-iris.jpg)\n",
    "\n",
    "### (Informal) Representation of the Graph\n",
    "`<Bob> <is a> <person>.`\\\n",
    "`<Bob> <is a friend of> <Alice>.`\\\n",
    "`<Bob> <is born on> <the 4th of July 1990>.`\\\n",
    "`<Bob> <is interested in> <the Mona Lisa>.`\\\n",
    "`<the Mona Lisa> <was created by> <Leonardo da Vinci>.`\\\n",
    "`<the video 'La Joconde à Washington'> <is about> <the Mona Lisa>`"
   ]
  },
  {
   "cell_type": "code",
   "execution_count": 1,
   "metadata": {
    "id": "Y_qzkuxcAZRK"
   },
   "outputs": [],
   "source": [
    "from rdflib import URIRef, BNode, Literal, Namespace\n",
    "from rdflib.namespace import FOAF, DCTERMS, XSD, RDF, SDO\n",
    "\n",
    "mona_lisa = URIRef('http://www.wikidata.org/entity/Q12418')\n",
    "davinci = URIRef('http://dbpedia.org/resource/Leonardo_da_Vinci')\n",
    "lajoconde = URIRef('http://data.europeana.eu/item/04802/243FA8618938F4117025F17A8B813C5F9AA4D619')\n",
    "\n",
    "EX = Namespace('http://example.org/')\n",
    "bob = EX['Bob']\n",
    "alice = EX['Alice']\n",
    "\n",
    "birth_date = Literal(\"1990-07-04\", datatype=XSD['date'])\n",
    "title = Literal('Mona Lisa', lang='en')"
   ]
  },
  {
   "cell_type": "code",
   "execution_count": 2,
   "metadata": {
    "colab": {
     "base_uri": "https://localhost:8080/",
     "height": 34
    },
    "id": "T9qhipQRGwuF",
    "outputId": "247840ca-209b-45f5-d788-3446e617a92f"
   },
   "outputs": [
    {
     "data": {
      "text/plain": [
       "rdflib.term.Literal('Mona Lisa', lang='en')"
      ]
     },
     "execution_count": 2,
     "metadata": {},
     "output_type": "execute_result"
    }
   ],
   "source": [
    "title"
   ]
  },
  {
   "cell_type": "code",
   "execution_count": 3,
   "metadata": {
    "id": "tC1iLOCkHnyS"
   },
   "outputs": [
    {
     "data": {
      "text/plain": [
       "<Graph identifier=N92ebe9ea223c4b378ca6f3e9316210f4 (<class 'rdflib.graph.Graph'>)>"
      ]
     },
     "execution_count": 3,
     "metadata": {},
     "output_type": "execute_result"
    }
   ],
   "source": [
    "from rdflib import Graph\n",
    "g = Graph()\n",
    "\n",
    "# Bind prefix to namespace\n",
    "g.bind('ex', EX)\n",
    "g.bind('foaf', FOAF)\n",
    "g.bind('schema', SDO)\n",
    "g.bind('dcterms', DCTERMS)\n",
    "\n",
    "g.add((bob, RDF.type, FOAF.Person))\n",
    "g.add((bob, FOAF.knows, alice))\n",
    "g.add((bob, FOAF['topic_interest'], mona_lisa))\n",
    "g.add((bob, SDO['birthDate'], birth_date))\n",
    "g.add((mona_lisa, DCTERMS['creator'], davinci))\n",
    "g.add((mona_lisa, DCTERMS['title'], title))\n",
    "g.add((lajoconde, DCTERMS['subject'], mona_lisa))"
   ]
  },
  {
   "cell_type": "code",
   "execution_count": 7,
   "metadata": {
    "colab": {
     "base_uri": "https://localhost:8080/",
     "height": 336
    },
    "id": "QT9iENftKa5v",
    "outputId": "eb756a97-a503-4272-adf3-dbc383df5cd8"
   },
   "outputs": [
    {
     "name": "stdout",
     "output_type": "stream",
     "text": [
      "@prefix dcterms: <http://purl.org/dc/terms/> .\n",
      "@prefix ex: <http://example.org/> .\n",
      "@prefix foaf: <http://xmlns.com/foaf/0.1/> .\n",
      "@prefix schema: <https://schema.org/> .\n",
      "@prefix xsd: <http://www.w3.org/2001/XMLSchema#> .\n",
      "\n",
      "<http://data.europeana.eu/item/04802/243FA8618938F4117025F17A8B813C5F9AA4D619> dcterms:subject <http://www.wikidata.org/entity/Q12418> .\n",
      "\n",
      "ex:Bob a foaf:Person ;\n",
      "    foaf:knows ex:Alice ;\n",
      "    foaf:topic_interest <http://www.wikidata.org/entity/Q12418> ;\n",
      "    schema:birthDate \"1990-07-04\"^^xsd:date .\n",
      "\n",
      "<http://www.wikidata.org/entity/Q12418> dcterms:creator <http://dbpedia.org/resource/Leonardo_da_Vinci> ;\n",
      "    dcterms:title \"Mona Lisa\"@en .\n",
      "\n",
      "\n"
     ]
    }
   ],
   "source": [
    "print(g.serialize(format='ttl'))"
   ]
  },
  {
   "cell_type": "code",
   "execution_count": 8,
   "metadata": {
    "id": "plbCFQQRVR2i"
   },
   "outputs": [],
   "source": [
    "# Bind prefix to namespace\n",
    "g.bind('ex', EX)\n",
    "g.bind('foaf', FOAF)\n",
    "g.bind('schema', SDO)\n",
    "g.bind('dcterms', DCTERMS)"
   ]
  },
  {
   "cell_type": "code",
   "execution_count": 9,
   "metadata": {
    "colab": {
     "base_uri": "https://localhost:8080/",
     "height": 158
    },
    "id": "93g6ggp7d-Ux",
    "outputId": "873d09ba-29d3-4b79-f8ca-a3ca86c4e21e"
   },
   "outputs": [
    {
     "name": "stdout",
     "output_type": "stream",
     "text": [
      "brick https://brickschema.org/schema/Brick#\n",
      "csvw http://www.w3.org/ns/csvw#\n",
      "dc http://purl.org/dc/elements/1.1/\n",
      "dcat http://www.w3.org/ns/dcat#\n",
      "dcmitype http://purl.org/dc/dcmitype/\n",
      "dcterms http://purl.org/dc/terms/\n",
      "dcam http://purl.org/dc/dcam/\n",
      "doap http://usefulinc.com/ns/doap#\n",
      "foaf http://xmlns.com/foaf/0.1/\n",
      "geo http://www.opengis.net/ont/geosparql#\n",
      "odrl http://www.w3.org/ns/odrl/2/\n",
      "org http://www.w3.org/ns/org#\n",
      "prof http://www.w3.org/ns/dx/prof/\n",
      "prov http://www.w3.org/ns/prov#\n",
      "qb http://purl.org/linked-data/cube#\n",
      "schema https://schema.org/\n",
      "sh http://www.w3.org/ns/shacl#\n",
      "skos http://www.w3.org/2004/02/skos/core#\n",
      "sosa http://www.w3.org/ns/sosa/\n",
      "ssn http://www.w3.org/ns/ssn/\n",
      "time http://www.w3.org/2006/time#\n",
      "vann http://purl.org/vocab/vann/\n",
      "void http://rdfs.org/ns/void#\n",
      "wgs https://www.w3.org/2003/01/geo/wgs84_pos#\n",
      "owl http://www.w3.org/2002/07/owl#\n",
      "rdf http://www.w3.org/1999/02/22-rdf-syntax-ns#\n",
      "rdfs http://www.w3.org/2000/01/rdf-schema#\n",
      "xsd http://www.w3.org/2001/XMLSchema#\n",
      "xml http://www.w3.org/XML/1998/namespace\n",
      "ex http://example.org/\n"
     ]
    }
   ],
   "source": [
    "for prefix, ns in g.namespaces():\n",
    "    print(prefix, ns)"
   ]
  },
  {
   "cell_type": "code",
   "execution_count": 10,
   "metadata": {
    "id": "RPD0CbIrllVX"
   },
   "outputs": [
    {
     "data": {
      "text/plain": [
       "<Graph identifier=N92ebe9ea223c4b378ca6f3e9316210f4 (<class 'rdflib.graph.Graph'>)>"
      ]
     },
     "execution_count": 10,
     "metadata": {},
     "output_type": "execute_result"
    }
   ],
   "source": [
    "# Replace Literal value\n",
    "g.set((bob, SDO['birthDate'], Literal('1990-01-01', datatype=XSD.date)))\n",
    "g.set((mona_lisa, DCTERMS['title'], Literal('La Joconde', lang='fr')))"
   ]
  },
  {
   "cell_type": "code",
   "execution_count": 12,
   "metadata": {
    "colab": {
     "base_uri": "https://localhost:8080/",
     "height": 336
    },
    "id": "tW8PWdoknUUW",
    "outputId": "52da0123-6faf-4d7e-97c2-517ffc4b6a19",
    "scrolled": true
   },
   "outputs": [
    {
     "name": "stdout",
     "output_type": "stream",
     "text": [
      "@prefix dcterms: <http://purl.org/dc/terms/> .\n",
      "@prefix ex: <http://example.org/> .\n",
      "@prefix foaf: <http://xmlns.com/foaf/0.1/> .\n",
      "@prefix schema: <https://schema.org/> .\n",
      "@prefix xsd: <http://www.w3.org/2001/XMLSchema#> .\n",
      "\n",
      "<http://data.europeana.eu/item/04802/243FA8618938F4117025F17A8B813C5F9AA4D619> dcterms:subject <http://www.wikidata.org/entity/Q12418> .\n",
      "\n",
      "ex:Bob a foaf:Person ;\n",
      "    foaf:knows ex:Alice ;\n",
      "    foaf:topic_interest <http://www.wikidata.org/entity/Q12418> ;\n",
      "    schema:birthDate \"1990-01-01\"^^xsd:date .\n",
      "\n",
      "<http://www.wikidata.org/entity/Q12418> dcterms:creator <http://dbpedia.org/resource/Leonardo_da_Vinci> ;\n",
      "    dcterms:title \"La Joconde\"@fr .\n",
      "\n",
      "\n"
     ]
    }
   ],
   "source": [
    "print(g.serialize(format='ttl'))"
   ]
  },
  {
   "cell_type": "code",
   "execution_count": 13,
   "metadata": {},
   "outputs": [
    {
     "name": "stdout",
     "output_type": "stream",
     "text": [
      "<?xml version=\"1.0\" encoding=\"utf-8\"?>\n",
      "<rdf:RDF\n",
      "   xmlns:dcterms=\"http://purl.org/dc/terms/\"\n",
      "   xmlns:foaf=\"http://xmlns.com/foaf/0.1/\"\n",
      "   xmlns:rdf=\"http://www.w3.org/1999/02/22-rdf-syntax-ns#\"\n",
      "   xmlns:schema=\"https://schema.org/\"\n",
      ">\n",
      "  <rdf:Description rdf:about=\"http://www.wikidata.org/entity/Q12418\">\n",
      "    <dcterms:creator rdf:resource=\"http://dbpedia.org/resource/Leonardo_da_Vinci\"/>\n",
      "    <dcterms:title xml:lang=\"fr\">La Joconde</dcterms:title>\n",
      "  </rdf:Description>\n",
      "  <rdf:Description rdf:about=\"http://example.org/Bob\">\n",
      "    <rdf:type rdf:resource=\"http://xmlns.com/foaf/0.1/Person\"/>\n",
      "    <foaf:knows rdf:resource=\"http://example.org/Alice\"/>\n",
      "    <foaf:topic_interest rdf:resource=\"http://www.wikidata.org/entity/Q12418\"/>\n",
      "    <schema:birthDate rdf:datatype=\"http://www.w3.org/2001/XMLSchema#date\">1990-01-01</schema:birthDate>\n",
      "  </rdf:Description>\n",
      "  <rdf:Description rdf:about=\"http://data.europeana.eu/item/04802/243FA8618938F4117025F17A8B813C5F9AA4D619\">\n",
      "    <dcterms:subject rdf:resource=\"http://www.wikidata.org/entity/Q12418\"/>\n",
      "  </rdf:Description>\n",
      "</rdf:RDF>\n",
      "\n"
     ]
    }
   ],
   "source": [
    "print(g.serialize(format='xml'))"
   ]
  },
  {
   "cell_type": "code",
   "execution_count": null,
   "metadata": {},
   "outputs": [],
   "source": []
  }
 ],
 "metadata": {
  "colab": {
   "collapsed_sections": [],
   "name": "Creating RDF triples",
   "provenance": []
  },
  "kernelspec": {
   "display_name": "Python 3",
   "language": "python",
   "name": "python3"
  },
  "language_info": {
   "codemirror_mode": {
    "name": "ipython",
    "version": 3
   },
   "file_extension": ".py",
   "mimetype": "text/x-python",
   "name": "python",
   "nbconvert_exporter": "python",
   "pygments_lexer": "ipython3",
   "version": "3.9.12"
  }
 },
 "nbformat": 4,
 "nbformat_minor": 1
}
