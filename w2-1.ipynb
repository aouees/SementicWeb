{
 "cells": [
  {
   "cell_type": "code",
   "execution_count": 47,
   "metadata": {},
   "outputs": [],
   "source": [
    "from rdflib import URIRef, BNode, Literal, Namespace,Graph\n",
    "from rdflib.namespace import FOAF, DCTERMS, XSD, RDF, SDO"
   ]
  },
  {
   "cell_type": "code",
   "execution_count": 48,
   "metadata": {},
   "outputs": [],
   "source": [
    "EX=Namespace('http://example.org/')\n",
    "SC=Namespace('http://schema.org/')\n",
    "alice=EX['alice']\n",
    "bob=EX['bob']\n",
    "carol=EX['carol']\n",
    "bp=SC['birthplace']\n",
    "knows=SC['knows']\n",
    "ovideo=URIRef('http://dbpedia.or/resourse/oviedo')"
   ]
  },
  {
   "cell_type": "code",
   "execution_count": 49,
   "metadata": {},
   "outputs": [],
   "source": [
    "g=Graph()\n",
    "g.bind('exxx',EX)\n",
    "g.bind('sc',SC)"
   ]
  },
  {
   "cell_type": "code",
   "execution_count": 50,
   "metadata": {},
   "outputs": [
    {
     "data": {
      "text/plain": [
       "<Graph identifier=Nef18ab014b5542e598a6a7b518dc6cc3 (<class 'rdflib.graph.Graph'>)>"
      ]
     },
     "execution_count": 50,
     "metadata": {},
     "output_type": "execute_result"
    }
   ],
   "source": [
    "g.add((alice,knows,bob))\n",
    "g.add((alice,bp,ovideo))\n",
    "g.add((bob,knows,carol))\n",
    "g.add((carol,knows,bob))\n",
    "g.add((carol,knows,alice))\n",
    "g.add((carol,bp,ovideo))"
   ]
  },
  {
   "cell_type": "code",
   "execution_count": 51,
   "metadata": {},
   "outputs": [
    {
     "name": "stdout",
     "output_type": "stream",
     "text": [
      "@prefix exxx: <http://example.org/> .\n",
      "@prefix sc: <http://schema.org/> .\n",
      "\n",
      "exxx:alice sc:birthplace <http://dbpedia.or/resourse/oviedo> ;\n",
      "    sc:knows exxx:bob .\n",
      "\n",
      "exxx:carol sc:birthplace <http://dbpedia.or/resourse/oviedo> ;\n",
      "    sc:knows exxx:alice,\n",
      "        exxx:bob .\n",
      "\n",
      "exxx:bob sc:knows exxx:carol .\n",
      "\n",
      "\n"
     ]
    }
   ],
   "source": [
    "print(g.serialize(format='ttl'))"
   ]
  },
  {
   "attachments": {},
   "cell_type": "markdown",
   "metadata": {},
   "source": [
    "@prefix ex:http://example.org/\n",
    "@prefix sc:http://schema.org/\n",
    "\n",
    "ex:alice sc:knows ex:bob;\n",
    "            sc:birthplace <http://dbpedia.or/resourse/oviedo>.\n",
    "ex:bob sc:knows ex:carol.\n",
    "ex:carol sc:birthplace <http://dbpedia.or/resourse/oviedo>;\n",
    "            sc:knows ex:bob> ,ex:alice."
   ]
  },
  {
   "cell_type": "code",
   "execution_count": 52,
   "metadata": {},
   "outputs": [
    {
     "name": "stdout",
     "output_type": "stream",
     "text": [
      "<?xml version=\"1.0\" encoding=\"utf-8\"?>\n",
      "<rdf:RDF\n",
      "   xmlns:rdf=\"http://www.w3.org/1999/02/22-rdf-syntax-ns#\"\n",
      "   xmlns:sc=\"http://schema.org/\"\n",
      ">\n",
      "  <rdf:Description rdf:about=\"http://example.org/bob\">\n",
      "    <sc:knows rdf:resource=\"http://example.org/carol\"/>\n",
      "  </rdf:Description>\n",
      "  <rdf:Description rdf:about=\"http://example.org/carol\">\n",
      "    <sc:knows rdf:resource=\"http://example.org/bob\"/>\n",
      "    <sc:knows rdf:resource=\"http://example.org/alice\"/>\n",
      "    <sc:birthplace rdf:resource=\"http://dbpedia.or/resourse/oviedo\"/>\n",
      "  </rdf:Description>\n",
      "  <rdf:Description rdf:about=\"http://example.org/alice\">\n",
      "    <sc:knows rdf:resource=\"http://example.org/bob\"/>\n",
      "    <sc:birthplace rdf:resource=\"http://dbpedia.or/resourse/oviedo\"/>\n",
      "  </rdf:Description>\n",
      "</rdf:RDF>\n",
      "\n"
     ]
    }
   ],
   "source": [
    "print(g.serialize(format='xml'))"
   ]
  },
  {
   "cell_type": "code",
   "execution_count": 53,
   "metadata": {},
   "outputs": [],
   "source": [
    "m=Literal('resadasda')\n",
    "bb=Namespace('http://dasdasdasd.com/')\n",
    "db=Namespace('http:/dbpdasds.org/')"
   ]
  },
  {
   "cell_type": "code",
   "execution_count": 54,
   "metadata": {},
   "outputs": [],
   "source": [
    "miller=bb['renee-j-miller']"
   ]
  },
  {
   "cell_type": "code",
   "execution_count": 55,
   "metadata": {},
   "outputs": [],
   "source": [
    "gg=Graph()"
   ]
  },
  {
   "cell_type": "code",
   "execution_count": 56,
   "metadata": {},
   "outputs": [],
   "source": [
    "gg.bind('foaf',FOAF)\n",
    "gg.bind('bb',bb)\n",
    "gg.bind('rdf',RDF)\n",
    "gg.bind('db',db)"
   ]
  },
  {
   "cell_type": "code",
   "execution_count": 57,
   "metadata": {},
   "outputs": [
    {
     "data": {
      "text/plain": [
       "<Graph identifier=Nee228bc2cada4a1da877c83eb9046cad (<class 'rdflib.graph.Graph'>)>"
      ]
     },
     "execution_count": 57,
     "metadata": {},
     "output_type": "execute_result"
    }
   ],
   "source": [
    "gg.add((miller,RDF['type'],FOAF['Person']))\n",
    "gg.add((miller,FOAF['name'],m))\n",
    "gg.add((miller,FOAF['based_near'],db['toronto']))"
   ]
  },
  {
   "cell_type": "code",
   "execution_count": 58,
   "metadata": {},
   "outputs": [
    {
     "name": "stdout",
     "output_type": "stream",
     "text": [
      "@prefix bb: <http://dasdasdasd.com/> .\n",
      "@prefix db: <http:/dbpdasds.org/> .\n",
      "@prefix foaf: <http://xmlns.com/foaf/0.1/> .\n",
      "\n",
      "bb:renee-j-miller a foaf:Person ;\n",
      "    foaf:based_near db:toronto ;\n",
      "    foaf:name \"resadasda\" .\n",
      "\n",
      "\n"
     ]
    }
   ],
   "source": [
    "print(gg.serialize(format='ttl'))"
   ]
  },
  {
   "cell_type": "code",
   "execution_count": null,
   "metadata": {},
   "outputs": [],
   "source": []
  }
 ],
 "metadata": {
  "kernelspec": {
   "display_name": "base",
   "language": "python",
   "name": "python3"
  },
  "language_info": {
   "codemirror_mode": {
    "name": "ipython",
    "version": 3
   },
   "file_extension": ".py",
   "mimetype": "text/x-python",
   "name": "python",
   "nbconvert_exporter": "python",
   "pygments_lexer": "ipython3",
   "version": "3.9.12"
  },
  "orig_nbformat": 4
 },
 "nbformat": 4,
 "nbformat_minor": 2
}
